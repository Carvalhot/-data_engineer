{
 "cells": [
  {
   "cell_type": "markdown",
   "metadata": {},
   "source": [
    "___\n",
    "# Capítulo 1 - Manipulação de dados: Básico\n",
    "## Seção 2 - Selecionando dados\n",
    "___\n",
    "### Importando bibliotecas e classes\n",
    "\n",
    "Podemos usar a notação `as` para abreviar o nome das bibliotecas e médotos que vamos importar e facilitar a escrita de código."
   ]
  },
  {
   "cell_type": "code",
   "execution_count": 3,
   "metadata": {},
   "outputs": [],
   "source": [
    "import numpy as np\n",
    "import pandas as pd\n",
    "\n",
    "from pandas import Series, DataFrame"
   ]
  },
  {
   "cell_type": "markdown",
   "metadata": {},
   "source": [
    "### Criar dados\n",
    "#### np.arange(valor)\n",
    "\n",
    "♔┈♔┈♔┈( O QUE ISSO FAZ ) ┈♔┈♔┈♔\n",
    "\n",
    "Método para gerar valores em um intervalo que retorna um array unidimensional"
   ]
  },
  {
   "cell_type": "code",
   "execution_count": 6,
   "metadata": {},
   "outputs": [],
   "source": [
    "dados = np.arange(10)"
   ]
  },
  {
   "cell_type": "code",
   "execution_count": 7,
   "metadata": {},
   "outputs": [
    {
     "data": {
      "text/plain": [
       "array([0, 1, 2, 3, 4, 5, 6, 7, 8, 9])"
      ]
     },
     "execution_count": 7,
     "metadata": {},
     "output_type": "execute_result"
    }
   ],
   "source": [
    "dados"
   ]
  },
  {
   "cell_type": "markdown",
   "metadata": {},
   "source": [
    "#### np.reshape()\n",
    "\n",
    "♔┈♔┈♔┈( O QUE ISSO FAZ ) ┈♔┈♔┈♔\n",
    "\n",
    "Método para remodelar o formato de um array. Se nós temos um array unidimensional com 8 itens podemos regorganizalo em um conjunto de arrays de dois itens cada. Pensem em transforma um array em uma matriz."
   ]
  },
  {
   "cell_type": "code",
   "execution_count": 9,
   "metadata": {},
   "outputs": [
    {
     "data": {
      "text/plain": [
       "array([[ 0,  1,  2],\n",
       "       [ 3,  4,  5],\n",
       "       [ 6,  7,  8],\n",
       "       [ 9, 10, 11],\n",
       "       [12, 13, 14]])"
      ]
     },
     "execution_count": 9,
     "metadata": {},
     "output_type": "execute_result"
    }
   ],
   "source": [
    "np.arange(15).reshape((5, 3))"
   ]
  },
  {
   "cell_type": "markdown",
   "metadata": {},
   "source": [
    "### Selecionar e buscar dados"
   ]
  },
  {
   "cell_type": "code",
   "execution_count": 16,
   "metadata": {},
   "outputs": [
    {
     "data": {
      "text/plain": [
       "linha 1     0\n",
       "linha 2     1\n",
       "linha 3     2\n",
       "linha 4     3\n",
       "linha 5     4\n",
       "linha 6     5\n",
       "linha 7     6\n",
       "linha 8     7\n",
       "linha 9     8\n",
       "linha 10    9\n",
       "dtype: int32"
      ]
     },
     "execution_count": 16,
     "metadata": {},
     "output_type": "execute_result"
    }
   ],
   "source": [
    "indice = ['linha 1', 'linha 2', 'linha 3', 'linha 4',\n",
    "          'linha 5', 'linha 6', 'linha 7', 'linha 8', 'linha 9', 'linha 10']\n",
    "\n",
    "dado = np.arange(10)\n",
    "serie = Series(dado, index=indice)\n",
    "serie"
   ]
  },
  {
   "cell_type": "markdown",
   "metadata": {},
   "source": [
    "\n",
    "#### ['índice']\n",
    "\n",
    "♔┈♔┈♔┈( O QUE ISSO FAZ ) ┈♔┈♔┈♔\n",
    "\n",
    "Quando você escreve um par de colchetes com um índice dentro deles, o Python entende que ele precisa selecionar e buscar todas as entradas com aquele índice."
   ]
  },
  {
   "cell_type": "code",
   "execution_count": 41,
   "metadata": {},
   "outputs": [
    {
     "data": {
      "text/plain": [
       "4"
      ]
     },
     "execution_count": 41,
     "metadata": {},
     "output_type": "execute_result"
    }
   ],
   "source": [
    "serie['linha 5']"
   ]
  },
  {
   "cell_type": "code",
   "execution_count": 6,
   "metadata": {},
   "outputs": [
    {
     "name": "stdout",
     "output_type": "stream",
     "text": [
      "Help on built-in function seed:\n",
      "\n",
      "seed(...) method of mtrand.RandomState instance\n",
      "    seed(seed=None)\n",
      "    \n",
      "    Seed the generator.\n",
      "    \n",
      "    This method is called when `RandomState` is initialized. It can be\n",
      "    called again to re-seed the generator. For details, see `RandomState`.\n",
      "    \n",
      "    Parameters\n",
      "    ----------\n",
      "    seed : int or array_like, optional\n",
      "        Seed for `RandomState`.\n",
      "        Must be convertible to 32 bit unsigned integers.\n",
      "    \n",
      "    See Also\n",
      "    --------\n",
      "    RandomState\n",
      "\n"
     ]
    }
   ],
   "source": [
    "help(np.random.seed)"
   ]
  },
  {
   "cell_type": "code",
   "execution_count": 34,
   "metadata": {},
   "outputs": [
    {
     "data": {
      "text/html": [
       "<div>\n",
       "<style scoped>\n",
       "    .dataframe tbody tr th:only-of-type {\n",
       "        vertical-align: middle;\n",
       "    }\n",
       "\n",
       "    .dataframe tbody tr th {\n",
       "        vertical-align: top;\n",
       "    }\n",
       "\n",
       "    .dataframe thead th {\n",
       "        text-align: right;\n",
       "    }\n",
       "</style>\n",
       "<table border=\"1\" class=\"dataframe\">\n",
       "  <thead>\n",
       "    <tr style=\"text-align: right;\">\n",
       "      <th></th>\n",
       "      <th>coluna 1</th>\n",
       "      <th>coluna 2</th>\n",
       "      <th>coluna 3</th>\n",
       "      <th>coluna 4</th>\n",
       "      <th>coluna 5</th>\n",
       "    </tr>\n",
       "  </thead>\n",
       "  <tbody>\n",
       "    <tr>\n",
       "      <th>linha 1</th>\n",
       "      <td>0.771321</td>\n",
       "      <td>0.020752</td>\n",
       "      <td>0.633648</td>\n",
       "      <td>0.748804</td>\n",
       "      <td>0.498507</td>\n",
       "    </tr>\n",
       "    <tr>\n",
       "      <th>linha 2</th>\n",
       "      <td>0.224797</td>\n",
       "      <td>0.198063</td>\n",
       "      <td>0.760531</td>\n",
       "      <td>0.169111</td>\n",
       "      <td>0.088340</td>\n",
       "    </tr>\n",
       "    <tr>\n",
       "      <th>linha 3</th>\n",
       "      <td>0.685360</td>\n",
       "      <td>0.953393</td>\n",
       "      <td>0.003948</td>\n",
       "      <td>0.512192</td>\n",
       "      <td>0.812621</td>\n",
       "    </tr>\n",
       "    <tr>\n",
       "      <th>linha 4</th>\n",
       "      <td>0.612526</td>\n",
       "      <td>0.721755</td>\n",
       "      <td>0.291876</td>\n",
       "      <td>0.917774</td>\n",
       "      <td>0.714576</td>\n",
       "    </tr>\n",
       "    <tr>\n",
       "      <th>linha 5</th>\n",
       "      <td>0.542544</td>\n",
       "      <td>0.142170</td>\n",
       "      <td>0.373341</td>\n",
       "      <td>0.674134</td>\n",
       "      <td>0.441833</td>\n",
       "    </tr>\n",
       "  </tbody>\n",
       "</table>\n",
       "</div>"
      ],
      "text/plain": [
       "         coluna 1  coluna 2  coluna 3  coluna 4  coluna 5\n",
       "linha 1  0.771321  0.020752  0.633648  0.748804  0.498507\n",
       "linha 2  0.224797  0.198063  0.760531  0.169111  0.088340\n",
       "linha 3  0.685360  0.953393  0.003948  0.512192  0.812621\n",
       "linha 4  0.612526  0.721755  0.291876  0.917774  0.714576\n",
       "linha 5  0.542544  0.142170  0.373341  0.674134  0.441833"
      ]
     },
     "execution_count": 34,
     "metadata": {},
     "output_type": "execute_result"
    }
   ],
   "source": [
    "np.random.seed(10)\n",
    "indice = ['linha 1', 'linha 2', 'linha 3', 'linha 4', 'linha 5']\n",
    "colunas = ['coluna 1', 'coluna 2', 'coluna 3', 'coluna 4', 'coluna 5']\n",
    "arranjo = np.random.rand(25)\n",
    "matriz = arranjo.reshape(5,5)\n",
    "df = DataFrame(matriz, \n",
    "               index=indice,\n",
    "               columns=colunas)\n",
    "df"
   ]
  },
  {
   "cell_type": "markdown",
   "metadata": {},
   "source": [
    "\n",
    "#### nome_do_objeto.loc[[linhas], [colunas]]\n",
    "\n",
    "♔┈♔┈♔┈( O QUE ISSO FAZ ) ┈♔┈♔┈♔\n",
    "\n",
    "Quando você usa o indexador especial `.loc[]`, e passa um conjunto de linhas e colunas, o Python entende que ele precisa selecionar e buscar apenas aquelas linhas e colunas."
   ]
  },
  {
   "cell_type": "code",
   "execution_count": 36,
   "metadata": {},
   "outputs": [
    {
     "data": {
      "text/html": [
       "<div>\n",
       "<style scoped>\n",
       "    .dataframe tbody tr th:only-of-type {\n",
       "        vertical-align: middle;\n",
       "    }\n",
       "\n",
       "    .dataframe tbody tr th {\n",
       "        vertical-align: top;\n",
       "    }\n",
       "\n",
       "    .dataframe thead th {\n",
       "        text-align: right;\n",
       "    }\n",
       "</style>\n",
       "<table border=\"1\" class=\"dataframe\">\n",
       "  <thead>\n",
       "    <tr style=\"text-align: right;\">\n",
       "      <th></th>\n",
       "      <th>coluna 2</th>\n",
       "      <th>coluna 4</th>\n",
       "    </tr>\n",
       "  </thead>\n",
       "  <tbody>\n",
       "    <tr>\n",
       "      <th>linha 1</th>\n",
       "      <td>0.020752</td>\n",
       "      <td>0.748804</td>\n",
       "    </tr>\n",
       "    <tr>\n",
       "      <th>linha 5</th>\n",
       "      <td>0.142170</td>\n",
       "      <td>0.674134</td>\n",
       "    </tr>\n",
       "  </tbody>\n",
       "</table>\n",
       "</div>"
      ],
      "text/plain": [
       "         coluna 2  coluna 4\n",
       "linha 1  0.020752  0.748804\n",
       "linha 5  0.142170  0.674134"
      ]
     },
     "execution_count": 36,
     "metadata": {},
     "output_type": "execute_result"
    }
   ],
   "source": [
    "df.loc[['linha 1', 'linha 5'], ['coluna 2', 'coluna 4']]"
   ]
  },
  {
   "cell_type": "markdown",
   "metadata": {},
   "source": [
    "### Fatiando dados\n",
    "\n",
    "#### ['índice inicial':'índice final'] \n",
    "\n",
    "♔┈♔┈♔┈( O QUE ISSO FAZ ) ┈♔┈♔┈♔\n",
    "\n",
    "\n",
    "Fatiar dados permite que voce selecione e busque todos os registros começando pelo índice inicial até o índice final e todos os registros entre esses dois."
   ]
  },
  {
   "cell_type": "code",
   "execution_count": 42,
   "metadata": {},
   "outputs": [
    {
     "data": {
      "text/plain": [
       "linha 2     1\n",
       "linha 3     2\n",
       "linha 4     3\n",
       "linha 5     4\n",
       "linha 6     5\n",
       "linha 7     6\n",
       "linha 8     7\n",
       "linha 9     8\n",
       "linha 10    9\n",
       "dtype: int32"
      ]
     },
     "execution_count": 42,
     "metadata": {},
     "output_type": "execute_result"
    }
   ],
   "source": [
    "serie['linha 2':'linha 10']"
   ]
  },
  {
   "cell_type": "code",
   "execution_count": null,
   "metadata": {},
   "outputs": [],
   "source": []
  }
 ],
 "metadata": {
  "anaconda-cloud": {},
  "celltoolbar": "Raw Cell Format",
  "kernelspec": {
   "display_name": "Python 3 (ipykernel)",
   "language": "python",
   "name": "python3"
  },
  "language_info": {
   "codemirror_mode": {
    "name": "ipython",
    "version": 3
   },
   "file_extension": ".py",
   "mimetype": "text/x-python",
   "name": "python",
   "nbconvert_exporter": "python",
   "pygments_lexer": "ipython3",
   "version": "3.9.7"
  }
 },
 "nbformat": 4,
 "nbformat_minor": 2
}
